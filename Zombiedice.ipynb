{
 "cells": [
  {
   "cell_type": "code",
   "execution_count": 2,
   "metadata": {},
   "outputs": [],
   "source": [
    "import random"
   ]
  },
  {
   "cell_type": "code",
   "execution_count": 253,
   "metadata": {},
   "outputs": [],
   "source": [
    "# green: 6\n",
    "# brains: 3\n",
    "# feet: 2\n",
    "# blast: 1\n",
    "\n",
    "# yellow: 4\n",
    "# brains: 2\n",
    "# feet: 2\n",
    "# blast: 2\n",
    "\n",
    "# red: 3\n",
    "# brains: 1\n",
    "# feet: 2\n",
    "# blast: 3"
   ]
  },
  {
   "cell_type": "code",
   "execution_count": 254,
   "metadata": {},
   "outputs": [],
   "source": [
    "# if test_1.roll_picked_dice() = 'Brain' + 1\n",
    "# if test_1.roll_picked_dice() = 'Shotgun' - 1\n",
    "# if test_1.roll_picked_dice() = 'Footprints'"
   ]
  },
  {
   "cell_type": "code",
   "execution_count": 255,
   "metadata": {},
   "outputs": [],
   "source": [
    "# save dice colour state for footprints\n",
    "# save dice picked state (which colours are left to pick / how many)\n",
    "# tally score"
   ]
  },
  {
   "cell_type": "code",
   "execution_count": 247,
   "metadata": {},
   "outputs": [],
   "source": [
    "class Zombiedice:\n",
    "    \n",
    "    def __init__(self, n_players):\n",
    "        \n",
    "        self.n_players = n_players\n",
    "        self.pick_results = []\n",
    "        \n",
    "    def pick_dice(self, n):\n",
    "        \n",
    "        if n > 3:\n",
    "            print('Can only pick 3 dice or less')\n",
    "        else:\n",
    "            pick_results = []\n",
    "\n",
    "            remaining_dice = range(1, 14)\n",
    "            \n",
    "            remaining_dice = [x for x in remaining_dice if x not in self.pick_results]\n",
    "                        \n",
    "            for dice_pick in range(0, n):\n",
    "\n",
    "                dice_pick = random.randint(1, 13)\n",
    "                                \n",
    "                if dice_pick in [1, 2, 3, 4, 5, 6]:\n",
    "                    result = dice_pick\n",
    "                elif dice_pick in [7, 8, 9, 10]:\n",
    "                    result = dice_pick\n",
    "                elif dice_pick in [11, 12, 13]:\n",
    "                    result = dice_pick\n",
    "\n",
    "                self.pick_results.append(result)\n",
    "            return self.pick_results\n",
    "        \n",
    "    def roll_green_die():\n",
    "    \n",
    "        die_roll = random.randint(1, 6)\n",
    "\n",
    "        die_colour = 'Green'\n",
    "        \n",
    "        if die_roll in [1, 2, 3]:\n",
    "            result = 'Brain'\n",
    "        elif die_roll in [4, 5]:\n",
    "            result = 'Footprints'\n",
    "        elif die_roll in [6]:\n",
    "            result = 'Shotgun'\n",
    "\n",
    "        print(result)\n",
    "        \n",
    "    def roll_yellow_die():\n",
    "    \n",
    "        die_roll = random.randint(1, 6)\n",
    "        \n",
    "        die_colour = 'Yellow'\n",
    "\n",
    "        if die_roll in [1, 2]:\n",
    "            result = 'Brain'\n",
    "        elif die_roll in [3, 4]:\n",
    "            result = 'Footprints'\n",
    "        elif die_roll in [5, 6]:\n",
    "            result = 'Shotgun'\n",
    "\n",
    "        print(result)\n",
    "        \n",
    "    def roll_red_die():\n",
    "\n",
    "        die_roll = random.randint(1, 6)\n",
    "\n",
    "        die_colour = 'Red'\n",
    "        \n",
    "        if die_roll in [1]:\n",
    "            result = 'Brain'\n",
    "        elif die_roll in [2, 3]:\n",
    "            result = 'Footprints'\n",
    "        elif die_roll in [4, 5, 6]:\n",
    "            result = 'Shotgun'\n",
    "\n",
    "        print(result)\n",
    "        \n",
    "    def roll_picked_dice(self):\n",
    "        \n",
    "        for i in self.pick_results:\n",
    "    \n",
    "            if i == 'Green':\n",
    "                roll_green_die()\n",
    "            elif i == 'Yellow':\n",
    "                roll_yellow_die()\n",
    "            elif i == 'Red':\n",
    "                roll_red_die()"
   ]
  },
  {
   "cell_type": "code",
   "execution_count": 248,
   "metadata": {},
   "outputs": [
    {
     "name": "stdout",
     "output_type": "stream",
     "text": [
      "Can only pick 3 dice or less\n"
     ]
    }
   ],
   "source": [
    "pick_dice(4)"
   ]
  },
  {
   "cell_type": "code",
   "execution_count": 249,
   "metadata": {},
   "outputs": [],
   "source": [
    "player_one = Zombiedice(1)"
   ]
  },
  {
   "cell_type": "code",
   "execution_count": 250,
   "metadata": {},
   "outputs": [
    {
     "data": {
      "text/plain": [
       "[3, 13, 12]"
      ]
     },
     "execution_count": 250,
     "metadata": {},
     "output_type": "execute_result"
    }
   ],
   "source": [
    "player_one.pick_dice(3)"
   ]
  },
  {
   "cell_type": "code",
   "execution_count": 251,
   "metadata": {},
   "outputs": [
    {
     "data": {
      "text/plain": [
       "[3, 13, 12]"
      ]
     },
     "execution_count": 251,
     "metadata": {},
     "output_type": "execute_result"
    }
   ],
   "source": [
    "player_one.pick_results"
   ]
  },
  {
   "cell_type": "code",
   "execution_count": 252,
   "metadata": {},
   "outputs": [],
   "source": [
    "player_one.roll_picked_dice()"
   ]
  },
  {
   "cell_type": "code",
   "execution_count": null,
   "metadata": {},
   "outputs": [],
   "source": []
  }
 ],
 "metadata": {
  "kernelspec": {
   "display_name": "Python 3",
   "language": "python",
   "name": "python3"
  },
  "language_info": {
   "codemirror_mode": {
    "name": "ipython",
    "version": 3
   },
   "file_extension": ".py",
   "mimetype": "text/x-python",
   "name": "python",
   "nbconvert_exporter": "python",
   "pygments_lexer": "ipython3",
   "version": "3.7.7"
  }
 },
 "nbformat": 4,
 "nbformat_minor": 4
}
