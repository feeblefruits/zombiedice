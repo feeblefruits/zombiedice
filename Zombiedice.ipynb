{
 "cells": [
  {
   "cell_type": "code",
   "execution_count": 2,
   "metadata": {},
   "outputs": [],
   "source": [
    "import random"
   ]
  },
  {
   "cell_type": "code",
   "execution_count": 1757,
   "metadata": {},
   "outputs": [],
   "source": [
    "class Zombiedice:\n",
    "    \n",
    "    def __init__(self, player_int):\n",
    "        \n",
    "        '''\n",
    "        To initiate player, include player int\n",
    "        \n",
    "        STEP 1: Once initialised, players are required to pick 3 dice from the bucket by running pick_dice()\n",
    "        \n",
    "        STEP 2: After they've picked the dice with specific colours,\n",
    "        players are required to roll the dice by running roll_dice()\n",
    "        \n",
    "        STEP 3: Player can pick more dice and re-roll if they choose to\n",
    "        - remember footprints are included in the re-pick and re-throw, so keep in mind of the colours\n",
    "        \n",
    "        STEP 4: Player can keep pick and roll untill the 13 dice are exhausted and the round finished\n",
    "        or player can end the round when they feel like they've amounted enough points.\n",
    "        \n",
    "        Run end_round() to end the round and the next player can continue\n",
    "        \n",
    "        The first player to reach a total of 13 points wins the game\n",
    "        \n",
    "        '''\n",
    "        \n",
    "        self.player_int = player_int\n",
    "        self.pick_results = []\n",
    "        self.footprints = []\n",
    "        self.total_score = []\n",
    "        self.round_score = 0\n",
    "        \n",
    "    def pick_dice(self, show_print=True):\n",
    "        \n",
    "        '''\n",
    "        Run to pick three dice from the bucket of 13 dice\n",
    "        \n",
    "        A complete bucket consists of the following colours:\n",
    "        \n",
    "        - 6 green dice\n",
    "        - 4 yellow dice\n",
    "        - 3 red dice\n",
    "        \n",
    "        INPUT: optional show_print boolean to include helper text output\n",
    "        OUTPUT: three dice colours picked at random\n",
    "        \n",
    "        '''\n",
    "                \n",
    "        picked_results_show = []\n",
    "        footprint_results_show = []\n",
    "\n",
    "        # define the remaining_dice in bucket to pick from (excluding the ones you've already picked)\n",
    "        remaining_dice = range(1, 14)\n",
    "        remaining_dice = [x for x in remaining_dice if x not in self.pick_results]\n",
    "\n",
    "        try:\n",
    "            # pick three dice minus the number of footprints dice\n",
    "            for dice_pick in range(0, (3 - len(self.footprints))):\n",
    "\n",
    "                dice_pick = random.choice(remaining_dice)\n",
    "\n",
    "                if dice_pick in [1, 2, 3, 4, 5, 6]:\n",
    "                    result = dice_pick\n",
    "                    result_show = 'Green'\n",
    "\n",
    "                elif dice_pick in [7, 8, 9, 10]:\n",
    "                    result = dice_pick\n",
    "                    result_show = 'Yellow'\n",
    "\n",
    "                elif dice_pick in [11, 12, 13]:\n",
    "                    result = dice_pick\n",
    "                    result_show = 'Red'\n",
    "\n",
    "                self.pick_results.append(result)\n",
    "\n",
    "                picked_results_show.append(result_show)\n",
    "                \n",
    "        except IndexError:\n",
    "            print('There are no more dice left in the bucket')\n",
    "            picked_results_show = []\n",
    "            \n",
    "        # include footprints dice with pick_results\n",
    "        for die in self.footprints:\n",
    "            self.pick_results.append(die)\n",
    "\n",
    "        # if there are footprints dice then append colour and include in picked_results_show\n",
    "        if len(self.footprints) > 0:\n",
    "\n",
    "            for footprint_die in self.footprints:\n",
    "                if footprint_die in [1, 2, 3, 4, 5, 6]:\n",
    "                    footprint_result_show = 'Green'\n",
    "\n",
    "                elif footprint_die in [7, 8, 9, 10]:\n",
    "                    footprint_result_show = 'Yellow'\n",
    "\n",
    "                elif footprint_die in [11, 12, 13]:\n",
    "                    footprint_result_show = 'Red'\n",
    "\n",
    "                footprint_results_show.append(footprint_result_show)\n",
    "\n",
    "            # include footprints dice with picked_results_show\n",
    "            picked_results_show = picked_results_show + footprint_results_show\n",
    "\n",
    "        else:\n",
    "            pass\n",
    "        \n",
    "        if show_print is True:\n",
    "            print(\"You have the following dice to roll:\")\n",
    "            print('')\n",
    "            for die in picked_results_show[-3:]:\n",
    "                print(die)\n",
    "            print('')\n",
    "\n",
    "            if len(self.footprints) > 0:\n",
    "                print(\"The footprints dice from the previous roll is:\")\n",
    "                for die in footprint_results_show:\n",
    "                    print(die)\n",
    "            else:\n",
    "                pass\n",
    "        else:\n",
    "            pass\n",
    "            \n",
    "    def roll_dice(self, show_print=True):\n",
    "        \n",
    "        '''\n",
    "        Run to roll the three dice picked up with pick_dice()\n",
    "        \n",
    "        Die icons include:\n",
    "        \n",
    "        - Brains\n",
    "        - Shotgun\n",
    "        - Footprints\n",
    "        \n",
    "        INPUT: optional show_print boolean to include helper text output\n",
    "        OUTPUT: The colour and 'icon' of each rolled die\n",
    "        \n",
    "        '''        \n",
    "        \n",
    "        roll_results_dict = {}\n",
    "        \n",
    "        die_number = 0\n",
    "        \n",
    "        footprints = []\n",
    "                \n",
    "        # roll last three dice of picked dice\n",
    "        for die in self.pick_results[-3:]:\n",
    "            \n",
    "            die_number += 1\n",
    "            \n",
    "            if die in [1, 2, 3, 4, 5, 6]:\n",
    "                \n",
    "                die_roll = random.randint(1, 6)\n",
    "                \n",
    "                roll_result_colour = 'Green'\n",
    "\n",
    "                if die_roll in [1, 2, 3]:\n",
    "                    roll_result = 'Brain'\n",
    "                    self.round_score += 1\n",
    "                    \n",
    "                elif die_roll in [4, 5]:\n",
    "                    roll_result = 'Footprints'\n",
    "                    footprints.append(die)\n",
    "                    \n",
    "                elif die_roll in [6]:\n",
    "                    roll_result = 'Shotgun'\n",
    "                    self.round_score -= 1\n",
    "                                        \n",
    "                roll_results_dict.update({'Die ' + str(die_number) + ': Green' : roll_result})\n",
    "                    \n",
    "            elif die in [7, 8, 9, 10]:\n",
    "                \n",
    "                die_roll = random.randint(1, 6)\n",
    "\n",
    "                roll_result_colour = 'Yellow'\n",
    "\n",
    "                if die_roll in [1, 2]:\n",
    "                    roll_result = 'Brain'\n",
    "                    self.round_score += 1\n",
    "\n",
    "                elif die_roll in [3, 4]:\n",
    "                    roll_result = 'Footprints'\n",
    "                    footprints.append(die)\n",
    "                    \n",
    "                elif die_roll in [5, 6]:\n",
    "                    roll_result = 'Shotgun'\n",
    "                    self.round_score -= 1\n",
    "                                    \n",
    "                roll_results_dict.update({'Die ' + str(die_number) + ': Yellow' : roll_result})\n",
    "                    \n",
    "            elif die in [11, 12, 13]:\n",
    "                \n",
    "                die_roll = random.randint(1, 6)\n",
    "\n",
    "                roll_result_colour = 'Red'\n",
    "\n",
    "                if die_roll in [1]:\n",
    "                    roll_result = 'Brain'\n",
    "                    self.round_score += 1\n",
    "                    \n",
    "                elif die_roll in [2, 3]:\n",
    "                    roll_result = 'Footprints'\n",
    "                    footprints.append(die)\n",
    "\n",
    "                elif die_roll in [4, 5, 6]:\n",
    "                    roll_result = 'Shotgun'\n",
    "                    self.round_score -= 1\n",
    "                \n",
    "                roll_results_dict.update({'Die ' + str(die_number) + ': Red' : roll_result})\n",
    "        \n",
    "        # only remaining footprints after roll_dice should be included in next pick_dice\n",
    "        self.footprints = footprints\n",
    "                \n",
    "        for key, value in roll_results_dict.items():\n",
    "            print(key, value)\n",
    "            \n",
    "        if show_print is True:\n",
    "            print('')\n",
    "            print(\"You're score this round so far is \" + str(self.round_score) + \"!\")\n",
    "\n",
    "            if len(self.footprints) > 0:\n",
    "                print(\"You've rolled \" + str(len(self.footprints)) + \" footprint(s).\")\n",
    "                print(\"Do you wanna pick more dice to re-roll?\")\n",
    "                print('')\n",
    "                print(\"Remember, you can only pick three dice including one of the footprints.\")\n",
    "            else:\n",
    "                pass\n",
    "        else:\n",
    "            pass\n",
    "                  \n",
    "    def end_round(self):\n",
    "        \n",
    "        '''\n",
    "        Run end_round() to end the round and the next player can continue\n",
    "        \n",
    "        INPUT: None\n",
    "        OUTPUT: player's total score - a sum of all rounds played so far\n",
    "        \n",
    "        '''\n",
    "        \n",
    "        # tally round score\n",
    "        self.total_score.append(self.round_score)\n",
    "        \n",
    "        # reset all round variables\n",
    "        self.pick_results = []\n",
    "        self.footprints = []\n",
    "        self.round_score = 0\n",
    "        \n",
    "        print(\"You're total score currently is: \" + str(sum(self.total_score)))"
   ]
  },
  {
   "cell_type": "code",
   "execution_count": 1758,
   "metadata": {},
   "outputs": [],
   "source": [
    "player_one = Zombiedice(1)"
   ]
  },
  {
   "cell_type": "code",
   "execution_count": 1759,
   "metadata": {},
   "outputs": [
    {
     "name": "stdout",
     "output_type": "stream",
     "text": [
      "You have the following dice to roll:\n",
      "\n",
      "Yellow\n",
      "Green\n",
      "Green\n",
      "\n"
     ]
    }
   ],
   "source": [
    "player_one.pick_dice()"
   ]
  },
  {
   "cell_type": "code",
   "execution_count": 1760,
   "metadata": {},
   "outputs": [
    {
     "name": "stdout",
     "output_type": "stream",
     "text": [
      "Die 1: Yellow Brain\n",
      "Die 2: Green Footprints\n",
      "Die 3: Green Brain\n",
      "\n",
      "You're score this round so far is 2!\n",
      "You've rolled 1 footprint(s).\n",
      "Do you wanna pick more dice to re-roll?\n",
      "\n",
      "Remember, you can only pick three dice including one of the footprints.\n"
     ]
    }
   ],
   "source": [
    "player_one.roll_dice()"
   ]
  },
  {
   "cell_type": "code",
   "execution_count": 1762,
   "metadata": {},
   "outputs": [
    {
     "name": "stdout",
     "output_type": "stream",
     "text": [
      "You have the following dice to roll:\n",
      "\n",
      "Green\n",
      "Yellow\n",
      "Green\n",
      "\n",
      "The footprints dice from the previous roll is:\n",
      "Green\n"
     ]
    }
   ],
   "source": [
    "player_one.pick_dice()"
   ]
  },
  {
   "cell_type": "code",
   "execution_count": 1763,
   "metadata": {},
   "outputs": [
    {
     "name": "stdout",
     "output_type": "stream",
     "text": [
      "Die 1: Green Footprints\n",
      "Die 2: Yellow Footprints\n",
      "Die 3: Green Shotgun\n",
      "\n",
      "You're score this round so far is 1!\n",
      "You've rolled 2 footprint(s).\n",
      "Do you wanna pick more dice to re-roll?\n",
      "\n",
      "Remember, you can only pick three dice including one of the footprints.\n"
     ]
    }
   ],
   "source": [
    "player_one.roll_dice()"
   ]
  },
  {
   "cell_type": "code",
   "execution_count": 1765,
   "metadata": {},
   "outputs": [
    {
     "name": "stdout",
     "output_type": "stream",
     "text": [
      "You have the following dice to roll:\n",
      "\n",
      "Red\n",
      "Red\n",
      "Green\n",
      "\n",
      "The footprints dice from the previous roll is:\n",
      "Green\n"
     ]
    }
   ],
   "source": [
    "player_one.pick_dice()"
   ]
  },
  {
   "cell_type": "code",
   "execution_count": 1766,
   "metadata": {},
   "outputs": [
    {
     "name": "stdout",
     "output_type": "stream",
     "text": [
      "Die 1: Red Shotgun\n",
      "Die 2: Red Footprints\n",
      "Die 3: Green Brain\n",
      "\n",
      "You're score this round so far is 1!\n",
      "You've rolled 1 footprint(s).\n",
      "Do you wanna pick more dice to re-roll?\n",
      "\n",
      "Remember, you can only pick three dice including one of the footprints.\n"
     ]
    }
   ],
   "source": [
    "player_one.roll_dice()"
   ]
  },
  {
   "cell_type": "code",
   "execution_count": 1767,
   "metadata": {},
   "outputs": [
    {
     "name": "stdout",
     "output_type": "stream",
     "text": [
      "You're total score is: 1\n"
     ]
    }
   ],
   "source": [
    "player_one.end_round()"
   ]
  },
  {
   "cell_type": "code",
   "execution_count": null,
   "metadata": {},
   "outputs": [],
   "source": []
  }
 ],
 "metadata": {
  "kernelspec": {
   "display_name": "Python 3",
   "language": "python",
   "name": "python3"
  },
  "language_info": {
   "codemirror_mode": {
    "name": "ipython",
    "version": 3
   },
   "file_extension": ".py",
   "mimetype": "text/x-python",
   "name": "python",
   "nbconvert_exporter": "python",
   "pygments_lexer": "ipython3",
   "version": "3.7.7"
  }
 },
 "nbformat": 4,
 "nbformat_minor": 4
}
