{
 "cells": [
  {
   "cell_type": "code",
   "execution_count": 2,
   "metadata": {},
   "outputs": [],
   "source": [
    "import random"
   ]
  },
  {
   "cell_type": "code",
   "execution_count": 253,
   "metadata": {},
   "outputs": [],
   "source": [
    "# green: 6\n",
    "# brains: 3\n",
    "# feet: 2\n",
    "# blast: 1\n",
    "\n",
    "# yellow: 4\n",
    "# brains: 2\n",
    "# feet: 2\n",
    "# blast: 2\n",
    "\n",
    "# red: 3\n",
    "# brains: 1\n",
    "# feet: 2\n",
    "# blast: 3"
   ]
  },
  {
   "cell_type": "code",
   "execution_count": 254,
   "metadata": {},
   "outputs": [],
   "source": [
    "# if test_1.roll_picked_dice() = 'Brain' + 1\n",
    "# if test_1.roll_picked_dice() = 'Shotgun' - 1\n",
    "# if test_1.roll_picked_dice() = 'Footprints'"
   ]
  },
  {
   "cell_type": "code",
   "execution_count": 255,
   "metadata": {},
   "outputs": [],
   "source": [
    "# save dice colour state for footprints\n",
    "# save dice picked state (which colours are left to pick / how many)\n",
    "# tally score"
   ]
  },
  {
   "cell_type": "code",
   "execution_count": 398,
   "metadata": {},
   "outputs": [],
   "source": [
    "class Zombiedice:\n",
    "    \n",
    "    def __init__(self, n_players):\n",
    "        \n",
    "        self.n_players = n_players\n",
    "        self.pick_results = []\n",
    "#         self.\n",
    "        \n",
    "    def pick_dice(self, n):\n",
    "        \n",
    "        if n > 3:\n",
    "            print('You can only pick 3 dice or less')\n",
    "        else:\n",
    "            pick_results = []\n",
    "            picked_results_show = []\n",
    "\n",
    "            remaining_dice = range(1, 14)\n",
    "            \n",
    "            remaining_dice = [x for x in remaining_dice if x not in self.pick_results]\n",
    "                        \n",
    "            for dice_pick in range(0, n):\n",
    "\n",
    "                dice_pick = random.randint(1, 13)\n",
    "                                \n",
    "                if dice_pick in [1, 2, 3, 4, 5, 6]:\n",
    "                    result = dice_pick\n",
    "                    result_show = 'Green'\n",
    "                    \n",
    "                elif dice_pick in [7, 8, 9, 10]:\n",
    "                    result = dice_pick\n",
    "                    result_show = 'Yellow'\n",
    "                    \n",
    "                elif dice_pick in [11, 12, 13]:\n",
    "                    result = dice_pick\n",
    "                    result_show = 'Red'\n",
    "                    \n",
    "                pick_results.append(result)\n",
    "                self.pick_results = pick_results\n",
    "                \n",
    "                picked_results_show.append(result_show)\n",
    "            print(picked_results_show)\n",
    "        \n",
    "    def roll_dice(self):\n",
    "        \n",
    "        roll_results_dict = {}\n",
    "        \n",
    "        for die in self.pick_results:\n",
    "            \n",
    "            if die in [1, 2, 3, 4, 5, 6]:\n",
    "                \n",
    "                die_roll = random.randint(1, 6)\n",
    "                \n",
    "                roll_result_colour = 'Green'\n",
    "\n",
    "                if die_roll in [1, 2, 3]:\n",
    "                    roll_result = 'Brain'\n",
    "                elif die_roll in [4, 5]:\n",
    "                    roll_result = 'Footprints'\n",
    "                elif die_roll in [6]:\n",
    "                    roll_result = 'Shotgun'\n",
    "                    \n",
    "\n",
    "                roll_results_dict.update({roll_result_colour : roll_result})\n",
    "                    \n",
    "            elif die in [7, 8, 9, 10]:\n",
    "                \n",
    "                die_roll = random.randint(1, 6)\n",
    "        \n",
    "                roll_result_colour = 'Yellow'\n",
    "\n",
    "                if die_roll in [1, 2]:\n",
    "                    roll_result = 'Brain'\n",
    "                elif die_roll in [3, 4]:\n",
    "                    roll_result = 'Footprints'\n",
    "                elif die_roll in [5, 6]:\n",
    "                    roll_result = 'Shotgun'\n",
    "\n",
    "                roll_results_dict.update({roll_result_colour : roll_result})\n",
    "                    \n",
    "            elif die in [11, 12, 13]:\n",
    "                \n",
    "                die_roll = random.randint(1, 6)\n",
    "\n",
    "                roll_result_colour = 'Red'\n",
    "\n",
    "                if die_roll in [1]:\n",
    "                    roll_result = 'Brain'\n",
    "                elif die_roll in [2, 3]:\n",
    "                    roll_result = 'Footprints'\n",
    "                    \n",
    "                elif die_roll in [4, 5, 6]:\n",
    "                    roll_result = 'Shotgun'\n",
    "                \n",
    "                roll_results_dict.update({roll_result_colour : roll_result})\n",
    "                    \n",
    "        print(roll_results_dict)"
   ]
  },
  {
   "cell_type": "code",
   "execution_count": 399,
   "metadata": {},
   "outputs": [],
   "source": [
    "player_one = Zombiedice(1)"
   ]
  },
  {
   "cell_type": "code",
   "execution_count": 400,
   "metadata": {},
   "outputs": [
    {
     "name": "stdout",
     "output_type": "stream",
     "text": [
      "['Green', 'Green', 'Red']\n"
     ]
    }
   ],
   "source": [
    "player_one.pick_dice(3)"
   ]
  },
  {
   "cell_type": "code",
   "execution_count": 401,
   "metadata": {},
   "outputs": [
    {
     "data": {
      "text/plain": [
       "[3, 1, 13]"
      ]
     },
     "execution_count": 401,
     "metadata": {},
     "output_type": "execute_result"
    }
   ],
   "source": [
    "player_one.pick_results"
   ]
  },
  {
   "cell_type": "code",
   "execution_count": 403,
   "metadata": {},
   "outputs": [
    {
     "name": "stdout",
     "output_type": "stream",
     "text": [
      "{'Green': 'Footprints', 'Red': 'Footprints'}\n"
     ]
    }
   ],
   "source": [
    "player_one.roll_dice()"
   ]
  },
  {
   "cell_type": "code",
   "execution_count": null,
   "metadata": {},
   "outputs": [],
   "source": []
  }
 ],
 "metadata": {
  "kernelspec": {
   "display_name": "Python 3",
   "language": "python",
   "name": "python3"
  },
  "language_info": {
   "codemirror_mode": {
    "name": "ipython",
    "version": 3
   },
   "file_extension": ".py",
   "mimetype": "text/x-python",
   "name": "python",
   "nbconvert_exporter": "python",
   "pygments_lexer": "ipython3",
   "version": "3.7.7"
  }
 },
 "nbformat": 4,
 "nbformat_minor": 4
}
