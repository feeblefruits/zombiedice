{
 "cells": [
  {
   "cell_type": "code",
   "execution_count": 786,
   "metadata": {},
   "outputs": [],
   "source": [
    "# TODO:\n",
    "\n",
    "# - Footprints need to be reset after roll_dice - to fix\n",
    "# - Fix picked_results_show return to include footprints from previous roll_dice\n",
    "\n",
    "# - Define self properties for round score and main\n",
    "# - Add finish_round def to record score and go to next player\n",
    "\n",
    "# - Add docstrings\n",
    "# - Add example play"
   ]
  },
  {
   "cell_type": "code",
   "execution_count": 2,
   "metadata": {},
   "outputs": [],
   "source": [
    "import random"
   ]
  },
  {
   "cell_type": "code",
   "execution_count": 910,
   "metadata": {},
   "outputs": [],
   "source": [
    "class Zombiedice:\n",
    "    \n",
    "    def __init__(self, n_players):\n",
    "        \n",
    "        self.n_players = n_players\n",
    "        self.pick_results = []\n",
    "        self.footprints = []\n",
    "        self.round_score = 0\n",
    "        \n",
    "    def pick_dice(self):\n",
    "        \n",
    "        try:\n",
    "        \n",
    "            pick_results = []\n",
    "            picked_results_show = []\n",
    "\n",
    "            remaining_dice = range(1, 14)\n",
    "\n",
    "            remaining_dice = [x for x in remaining_dice if x not in self.pick_results]\n",
    "\n",
    "            for dice_pick in range(0, (3 - len(self.footprints))):\n",
    "\n",
    "                dice_pick = random.choice(remaining_dice)\n",
    "\n",
    "                if dice_pick in [1, 2, 3, 4, 5, 6]:\n",
    "                    result = dice_pick\n",
    "                    result_show = 'Green'\n",
    "\n",
    "                elif dice_pick in [7, 8, 9, 10]:\n",
    "                    result = dice_pick\n",
    "                    result_show = 'Yellow'\n",
    "\n",
    "                elif dice_pick in [11, 12, 13]:\n",
    "                    result = dice_pick\n",
    "                    result_show = 'Red'\n",
    "\n",
    "                self.pick_results.append(result)\n",
    "\n",
    "                picked_results_show.append(result_show)\n",
    "\n",
    "            for die in self.footprints:\n",
    "                self.pick_results.append(die)\n",
    "\n",
    "            for die in picked_results_show:\n",
    "                print(die)\n",
    "                \n",
    "        except IndexError:\n",
    "            print('There are no more dice left in the bucket')\n",
    "            \n",
    "    def roll_dice(self):\n",
    "        \n",
    "        roll_results_dict = {}\n",
    "        \n",
    "        die_number = 0\n",
    "        \n",
    "        footprints = []\n",
    "                \n",
    "        for die in self.pick_results[-3:]:\n",
    "            \n",
    "            die_number += 1\n",
    "            \n",
    "            if die in [1, 2, 3, 4, 5, 6]:\n",
    "                \n",
    "                die_roll = random.randint(1, 6)\n",
    "                \n",
    "                roll_result_colour = 'Green'\n",
    "\n",
    "                if die_roll in [1, 2, 3]:\n",
    "                    roll_result = 'Brain'\n",
    "                    self.round_score += 1\n",
    "                    \n",
    "                elif die_roll in [4, 5]:\n",
    "                    roll_result = 'Footprints'\n",
    "                    footprints.append(die)\n",
    "                    \n",
    "                elif die_roll in [6]:\n",
    "                    roll_result = 'Shotgun'\n",
    "                    self.round_score -= 1\n",
    "                                        \n",
    "                roll_results_dict.update({'Die ' + str(die_number) + ': Green' : roll_result})\n",
    "                    \n",
    "            elif die in [7, 8, 9, 10]:\n",
    "                \n",
    "                die_roll = random.randint(1, 6)\n",
    "\n",
    "                roll_result_colour = 'Yellow'\n",
    "\n",
    "                if die_roll in [1, 2]:\n",
    "                    roll_result = 'Brain'\n",
    "                    self.round_score += 1\n",
    "\n",
    "                elif die_roll in [3, 4]:\n",
    "                    roll_result = 'Footprints'\n",
    "                    footprints.append(die)\n",
    "                    \n",
    "                elif die_roll in [5, 6]:\n",
    "                    roll_result = 'Shotgun'\n",
    "                    self.round_score -= 1\n",
    "                                    \n",
    "                roll_results_dict.update({'Die ' + str(die_number) + ': Yellow' : roll_result})\n",
    "                    \n",
    "            elif die in [11, 12, 13]:\n",
    "                \n",
    "                die_roll = random.randint(1, 6)\n",
    "\n",
    "                roll_result_colour = 'Red'\n",
    "\n",
    "                if die_roll in [1]:\n",
    "                    roll_result = 'Brain'\n",
    "                    self.round_score += 1\n",
    "                    \n",
    "                elif die_roll in [2, 3]:\n",
    "                    roll_result = 'Footprints'\n",
    "                    footprints.append(die)\n",
    "\n",
    "                elif die_roll in [4, 5, 6]:\n",
    "                    roll_result = 'Shotgun'\n",
    "                    self.round_score -= 1\n",
    "                \n",
    "                roll_results_dict.update({'Die ' + str(die_number) + ': Red' : roll_result})\n",
    "        \n",
    "        self.pick_results = footprints\n",
    "        self.footprints = self.footprints + footprints\n",
    "        \n",
    "        for k, v in roll_results_dict.items():\n",
    "            print(k, v)"
   ]
  },
  {
   "cell_type": "code",
   "execution_count": null,
   "metadata": {},
   "outputs": [],
   "source": []
  },
  {
   "cell_type": "code",
   "execution_count": 911,
   "metadata": {},
   "outputs": [],
   "source": [
    "player_one = Zombiedice(1)"
   ]
  },
  {
   "cell_type": "code",
   "execution_count": 912,
   "metadata": {},
   "outputs": [
    {
     "name": "stdout",
     "output_type": "stream",
     "text": [
      "Green\n",
      "Yellow\n",
      "Green\n"
     ]
    }
   ],
   "source": [
    "player_one.pick_dice()"
   ]
  },
  {
   "cell_type": "code",
   "execution_count": 913,
   "metadata": {
    "scrolled": true
   },
   "outputs": [
    {
     "data": {
      "text/plain": [
       "[1, 7, 6]"
      ]
     },
     "execution_count": 913,
     "metadata": {},
     "output_type": "execute_result"
    }
   ],
   "source": [
    "player_one.pick_results"
   ]
  },
  {
   "cell_type": "code",
   "execution_count": 914,
   "metadata": {},
   "outputs": [
    {
     "name": "stdout",
     "output_type": "stream",
     "text": [
      "Die 1: Green Brain\n",
      "Die 2: Yellow Brain\n",
      "Die 3: Green Shotgun\n"
     ]
    }
   ],
   "source": [
    "player_one.roll_dice()"
   ]
  },
  {
   "cell_type": "code",
   "execution_count": 915,
   "metadata": {},
   "outputs": [
    {
     "data": {
      "text/plain": [
       "[]"
      ]
     },
     "execution_count": 915,
     "metadata": {},
     "output_type": "execute_result"
    }
   ],
   "source": [
    "player_one.pick_results"
   ]
  },
  {
   "cell_type": "code",
   "execution_count": 916,
   "metadata": {},
   "outputs": [
    {
     "data": {
      "text/plain": [
       "[]"
      ]
     },
     "execution_count": 916,
     "metadata": {},
     "output_type": "execute_result"
    }
   ],
   "source": [
    "player_one.footprints"
   ]
  },
  {
   "cell_type": "code",
   "execution_count": 917,
   "metadata": {},
   "outputs": [
    {
     "data": {
      "text/plain": [
       "1"
      ]
     },
     "execution_count": 917,
     "metadata": {},
     "output_type": "execute_result"
    }
   ],
   "source": [
    "player_one.round_score"
   ]
  },
  {
   "cell_type": "code",
   "execution_count": null,
   "metadata": {},
   "outputs": [],
   "source": []
  }
 ],
 "metadata": {
  "kernelspec": {
   "display_name": "Python 3",
   "language": "python",
   "name": "python3"
  },
  "language_info": {
   "codemirror_mode": {
    "name": "ipython",
    "version": 3
   },
   "file_extension": ".py",
   "mimetype": "text/x-python",
   "name": "python",
   "nbconvert_exporter": "python",
   "pygments_lexer": "ipython3",
   "version": "3.7.7"
  }
 },
 "nbformat": 4,
 "nbformat_minor": 4
}
